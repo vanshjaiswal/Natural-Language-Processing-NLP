{
 "cells": [
  {
   "cell_type": "code",
   "execution_count": 3,
   "id": "982d8f60",
   "metadata": {},
   "outputs": [],
   "source": [
    "import nltk                    #natural language tool-kit"
   ]
  },
  {
   "cell_type": "code",
   "execution_count": 1,
   "id": "dd55521c-5a02-4d66-89c0-c8950e2e2ce5",
   "metadata": {},
   "outputs": [],
   "source": [
    "A = \"This is an awesome movie, Loved it\" -  posistive"
   ]
  },
  {
   "cell_type": "code",
   "execution_count": 2,
   "id": "4548d663-3116-4e9b-bb1c-9a5c57bc9e82",
   "metadata": {},
   "outputs": [],
   "source": [
    "B = \"What a waste of time\" - negative"
   ]
  },
  {
   "cell_type": "code",
   "execution_count": null,
   "id": "c719887d-d5b1-47b3-8786-a3142429a2e5",
   "metadata": {},
   "outputs": [],
   "source": [
    "Sentiment Analysis"
   ]
  },
  {
   "cell_type": "code",
   "execution_count": null,
   "id": "847af231-552c-4fd0-8f3d-127d06b70907",
   "metadata": {},
   "outputs": [],
   "source": [
    "Suggest me some good movies"
   ]
  },
  {
   "cell_type": "code",
   "execution_count": null,
   "id": "8c0b2c84-41d4-4de4-bfe6-33e9f67fdbd2",
   "metadata": {},
   "outputs": [],
   "source": []
  },
  {
   "cell_type": "code",
   "execution_count": 5,
   "id": "cd3abd39",
   "metadata": {},
   "outputs": [],
   "source": [
    "# nltk.download()"
   ]
  },
  {
   "cell_type": "code",
   "execution_count": 4,
   "id": "1927f8a0",
   "metadata": {},
   "outputs": [],
   "source": [
    "passage=\"\"\" The Marvel Cinematic Universe (MCU) is an American media franchise and shared universe centered on a series of superhero films produced by Marvel Studios. The films are based on characters that appear in American comic books published by Marvel Comics. The franchise also includes television series, short films, digital series, and literature. The shared universe, much like the original Marvel Universe in comic books, was established by crossing over common plot elements, settings, cast, and characters.\n",
    "\n",
    "Marvel Studios releases its films in groups called \"Phases\", with the first three phases collectively known as \"The Infinity Saga\" and the following three phases as \"The Multiverse Saga\". The first MCU film, Iron Man (2008), began Phase One, which culminated in the 2012 crossover film The Avengers. Phase Two began with Iron Man 3 (2013) and concluded with Ant-Man (2015). Phase Three began with Captain America: Civil War (2016) and concluded with Spider-Man: Far From Home (2019). Phase Four began with Black Widow (2021) and concluded with Black Panther: Wakanda Forever (2022). Ant-Man and the Wasp: Quantumania (2023) began Phase Five, which will end with Thunderbolts (2025), and Phase Six will begin with The Fantastic Four (2025). Phase Six and \"The Multiverse Saga\" will conclude with Avengers 5 (2026) and Avengers: Secret Wars (2027).\n",
    "\n",
    "Marvel Television expanded the universe to network television with Agents of S.H.I.E.L.D. on ABC in 2013 before further expanding to streaming television on Netflix and Hulu and to cable television on Freeform. They also produced the digital series Agents of S.H.I.E.L.D.: Slingshot. Marvel Studios began producing their own television series for streaming on Disney+, starting with WandaVision in 2021 as the beginning of Phase Four. They also expanded to television specials in Phase Four, known as Marvel Studios Special Presentations, the first of which was Werewolf by Night (2022). The MCU also includes tie-in comics published by Marvel Comics, a series of direct-to-video short films called Marvel One-Shots, and viral marketing campaigns for the films featuring the faux news programs WHIH Newsfront and The Daily Bugle.\n",
    "\n",
    "The franchise has been commercially successful, becoming one of the highest-grossing media franchises of all time, and generally received positive reviews. It has inspired other film and television studios to attempt similar shared universes and has also inspired several themed attractions, an art exhibit, television specials, literary material, multiple tie-in video games, and commercials.\"\"\""
   ]
  },
  {
   "cell_type": "code",
   "execution_count": 5,
   "id": "345c726d",
   "metadata": {},
   "outputs": [
    {
     "data": {
      "text/plain": [
       "' The Marvel Cinematic Universe (MCU) is an American media franchise and shared universe centered on a series of superhero films produced by Marvel Studios. The films are based on characters that appear in American comic books published by Marvel Comics. The franchise also includes television series, short films, digital series, and literature. The shared universe, much like the original Marvel Universe in comic books, was established by crossing over common plot elements, settings, cast, and characters.\\n\\nMarvel Studios releases its films in groups called \"Phases\", with the first three phases collectively known as \"The Infinity Saga\" and the following three phases as \"The Multiverse Saga\". The first MCU film, Iron Man (2008), began Phase One, which culminated in the 2012 crossover film The Avengers. Phase Two began with Iron Man 3 (2013) and concluded with Ant-Man (2015). Phase Three began with Captain America: Civil War (2016) and concluded with Spider-Man: Far From Home (2019). Phase Four began with Black Widow (2021) and concluded with Black Panther: Wakanda Forever (2022). Ant-Man and the Wasp: Quantumania (2023) began Phase Five, which will end with Thunderbolts (2025), and Phase Six will begin with The Fantastic Four (2025). Phase Six and \"The Multiverse Saga\" will conclude with Avengers 5 (2026) and Avengers: Secret Wars (2027).\\n\\nMarvel Television expanded the universe to network television with Agents of S.H.I.E.L.D. on ABC in 2013 before further expanding to streaming television on Netflix and Hulu and to cable television on Freeform. They also produced the digital series Agents of S.H.I.E.L.D.: Slingshot. Marvel Studios began producing their own television series for streaming on Disney+, starting with WandaVision in 2021 as the beginning of Phase Four. They also expanded to television specials in Phase Four, known as Marvel Studios Special Presentations, the first of which was Werewolf by Night (2022). The MCU also includes tie-in comics published by Marvel Comics, a series of direct-to-video short films called Marvel One-Shots, and viral marketing campaigns for the films featuring the faux news programs WHIH Newsfront and The Daily Bugle.\\n\\nThe franchise has been commercially successful, becoming one of the highest-grossing media franchises of all time, and generally received positive reviews. It has inspired other film and television studios to attempt similar shared universes and has also inspired several themed attractions, an art exhibit, television specials, literary material, multiple tie-in video games, and commercials.'"
      ]
     },
     "execution_count": 5,
     "metadata": {},
     "output_type": "execute_result"
    }
   ],
   "source": [
    "passage  #in NLP we are calling it corpus"
   ]
  },
  {
   "cell_type": "code",
   "execution_count": 6,
   "id": "d0effbee",
   "metadata": {},
   "outputs": [
    {
     "data": {
      "text/plain": [
       "2582"
      ]
     },
     "execution_count": 6,
     "metadata": {},
     "output_type": "execute_result"
    }
   ],
   "source": [
    "len(passage)"
   ]
  },
  {
   "cell_type": "markdown",
   "id": "ab50cd7c",
   "metadata": {},
   "source": [
    "# Tokenization"
   ]
  },
  {
   "cell_type": "markdown",
   "id": "1777b634",
   "metadata": {},
   "source": [
    "1:Sentence Tokenization\n",
    "\n",
    "\n",
    "2: Word Tokenization"
   ]
  },
  {
   "cell_type": "code",
   "execution_count": 7,
   "id": "772ac90d",
   "metadata": {},
   "outputs": [],
   "source": [
    "sentences = nltk.sent_tokenize(passage)"
   ]
  },
  {
   "cell_type": "code",
   "execution_count": 8,
   "id": "c7eba14e",
   "metadata": {},
   "outputs": [
    {
     "data": {
      "text/plain": [
       "20"
      ]
     },
     "execution_count": 8,
     "metadata": {},
     "output_type": "execute_result"
    }
   ],
   "source": [
    "len(sentences)"
   ]
  },
  {
   "cell_type": "code",
   "execution_count": 9,
   "id": "5b5f49d5",
   "metadata": {},
   "outputs": [
    {
     "data": {
      "text/plain": [
       "[' The Marvel Cinematic Universe (MCU) is an American media franchise and shared universe centered on a series of superhero films produced by Marvel Studios.',\n",
       " 'The films are based on characters that appear in American comic books published by Marvel Comics.',\n",
       " 'The franchise also includes television series, short films, digital series, and literature.',\n",
       " 'The shared universe, much like the original Marvel Universe in comic books, was established by crossing over common plot elements, settings, cast, and characters.',\n",
       " 'Marvel Studios releases its films in groups called \"Phases\", with the first three phases collectively known as \"The Infinity Saga\" and the following three phases as \"The Multiverse Saga\".',\n",
       " 'The first MCU film, Iron Man (2008), began Phase One, which culminated in the 2012 crossover film The Avengers.',\n",
       " 'Phase Two began with Iron Man 3 (2013) and concluded with Ant-Man (2015).',\n",
       " 'Phase Three began with Captain America: Civil War (2016) and concluded with Spider-Man: Far From Home (2019).',\n",
       " 'Phase Four began with Black Widow (2021) and concluded with Black Panther: Wakanda Forever (2022).',\n",
       " 'Ant-Man and the Wasp: Quantumania (2023) began Phase Five, which will end with Thunderbolts (2025), and Phase Six will begin with The Fantastic Four (2025).',\n",
       " 'Phase Six and \"The Multiverse Saga\" will conclude with Avengers 5 (2026) and Avengers: Secret Wars (2027).',\n",
       " 'Marvel Television expanded the universe to network television with Agents of S.H.I.E.L.D.',\n",
       " 'on ABC in 2013 before further expanding to streaming television on Netflix and Hulu and to cable television on Freeform.',\n",
       " 'They also produced the digital series Agents of S.H.I.E.L.D.',\n",
       " ': Slingshot.',\n",
       " 'Marvel Studios began producing their own television series for streaming on Disney+, starting with WandaVision in 2021 as the beginning of Phase Four.',\n",
       " 'They also expanded to television specials in Phase Four, known as Marvel Studios Special Presentations, the first of which was Werewolf by Night (2022).',\n",
       " 'The MCU also includes tie-in comics published by Marvel Comics, a series of direct-to-video short films called Marvel One-Shots, and viral marketing campaigns for the films featuring the faux news programs WHIH Newsfront and The Daily Bugle.',\n",
       " 'The franchise has been commercially successful, becoming one of the highest-grossing media franchises of all time, and generally received positive reviews.',\n",
       " 'It has inspired other film and television studios to attempt similar shared universes and has also inspired several themed attractions, an art exhibit, television specials, literary material, multiple tie-in video games, and commercials.']"
      ]
     },
     "execution_count": 9,
     "metadata": {},
     "output_type": "execute_result"
    }
   ],
   "source": [
    "sentences"
   ]
  },
  {
   "cell_type": "code",
   "execution_count": 10,
   "id": "f364ef4f",
   "metadata": {},
   "outputs": [],
   "source": [
    "words=nltk.word_tokenize(passage)"
   ]
  },
  {
   "cell_type": "code",
   "execution_count": 11,
   "id": "fbcf4187",
   "metadata": {},
   "outputs": [
    {
     "data": {
      "text/plain": [
       "479"
      ]
     },
     "execution_count": 11,
     "metadata": {},
     "output_type": "execute_result"
    }
   ],
   "source": [
    "len(words)"
   ]
  },
  {
   "cell_type": "code",
   "execution_count": 12,
   "id": "e0bfe879-b447-4ba2-9db6-a020a6160f58",
   "metadata": {},
   "outputs": [
    {
     "data": {
      "text/plain": [
       "['The',\n",
       " 'Marvel',\n",
       " 'Cinematic',\n",
       " 'Universe',\n",
       " '(',\n",
       " 'MCU',\n",
       " ')',\n",
       " 'is',\n",
       " 'an',\n",
       " 'American',\n",
       " 'media',\n",
       " 'franchise',\n",
       " 'and',\n",
       " 'shared',\n",
       " 'universe',\n",
       " 'centered',\n",
       " 'on',\n",
       " 'a',\n",
       " 'series',\n",
       " 'of',\n",
       " 'superhero',\n",
       " 'films',\n",
       " 'produced',\n",
       " 'by',\n",
       " 'Marvel',\n",
       " 'Studios',\n",
       " '.',\n",
       " 'The',\n",
       " 'films',\n",
       " 'are',\n",
       " 'based',\n",
       " 'on',\n",
       " 'characters',\n",
       " 'that',\n",
       " 'appear',\n",
       " 'in',\n",
       " 'American',\n",
       " 'comic',\n",
       " 'books',\n",
       " 'published',\n",
       " 'by',\n",
       " 'Marvel',\n",
       " 'Comics',\n",
       " '.',\n",
       " 'The',\n",
       " 'franchise',\n",
       " 'also',\n",
       " 'includes',\n",
       " 'television',\n",
       " 'series',\n",
       " ',',\n",
       " 'short',\n",
       " 'films',\n",
       " ',',\n",
       " 'digital',\n",
       " 'series',\n",
       " ',',\n",
       " 'and',\n",
       " 'literature',\n",
       " '.',\n",
       " 'The',\n",
       " 'shared',\n",
       " 'universe',\n",
       " ',',\n",
       " 'much',\n",
       " 'like',\n",
       " 'the',\n",
       " 'original',\n",
       " 'Marvel',\n",
       " 'Universe',\n",
       " 'in',\n",
       " 'comic',\n",
       " 'books',\n",
       " ',',\n",
       " 'was',\n",
       " 'established',\n",
       " 'by',\n",
       " 'crossing',\n",
       " 'over',\n",
       " 'common',\n",
       " 'plot',\n",
       " 'elements',\n",
       " ',',\n",
       " 'settings',\n",
       " ',',\n",
       " 'cast',\n",
       " ',',\n",
       " 'and',\n",
       " 'characters',\n",
       " '.',\n",
       " 'Marvel',\n",
       " 'Studios',\n",
       " 'releases',\n",
       " 'its',\n",
       " 'films',\n",
       " 'in',\n",
       " 'groups',\n",
       " 'called',\n",
       " '``',\n",
       " 'Phases',\n",
       " \"''\",\n",
       " ',',\n",
       " 'with',\n",
       " 'the',\n",
       " 'first',\n",
       " 'three',\n",
       " 'phases',\n",
       " 'collectively',\n",
       " 'known',\n",
       " 'as',\n",
       " '``',\n",
       " 'The',\n",
       " 'Infinity',\n",
       " 'Saga',\n",
       " \"''\",\n",
       " 'and',\n",
       " 'the',\n",
       " 'following',\n",
       " 'three',\n",
       " 'phases',\n",
       " 'as',\n",
       " '``',\n",
       " 'The',\n",
       " 'Multiverse',\n",
       " 'Saga',\n",
       " \"''\",\n",
       " '.',\n",
       " 'The',\n",
       " 'first',\n",
       " 'MCU',\n",
       " 'film',\n",
       " ',',\n",
       " 'Iron',\n",
       " 'Man',\n",
       " '(',\n",
       " '2008',\n",
       " ')',\n",
       " ',',\n",
       " 'began',\n",
       " 'Phase',\n",
       " 'One',\n",
       " ',',\n",
       " 'which',\n",
       " 'culminated',\n",
       " 'in',\n",
       " 'the',\n",
       " '2012',\n",
       " 'crossover',\n",
       " 'film',\n",
       " 'The',\n",
       " 'Avengers',\n",
       " '.',\n",
       " 'Phase',\n",
       " 'Two',\n",
       " 'began',\n",
       " 'with',\n",
       " 'Iron',\n",
       " 'Man',\n",
       " '3',\n",
       " '(',\n",
       " '2013',\n",
       " ')',\n",
       " 'and',\n",
       " 'concluded',\n",
       " 'with',\n",
       " 'Ant-Man',\n",
       " '(',\n",
       " '2015',\n",
       " ')',\n",
       " '.',\n",
       " 'Phase',\n",
       " 'Three',\n",
       " 'began',\n",
       " 'with',\n",
       " 'Captain',\n",
       " 'America',\n",
       " ':',\n",
       " 'Civil',\n",
       " 'War',\n",
       " '(',\n",
       " '2016',\n",
       " ')',\n",
       " 'and',\n",
       " 'concluded',\n",
       " 'with',\n",
       " 'Spider-Man',\n",
       " ':',\n",
       " 'Far',\n",
       " 'From',\n",
       " 'Home',\n",
       " '(',\n",
       " '2019',\n",
       " ')',\n",
       " '.',\n",
       " 'Phase',\n",
       " 'Four',\n",
       " 'began',\n",
       " 'with',\n",
       " 'Black',\n",
       " 'Widow',\n",
       " '(',\n",
       " '2021',\n",
       " ')',\n",
       " 'and',\n",
       " 'concluded',\n",
       " 'with',\n",
       " 'Black',\n",
       " 'Panther',\n",
       " ':',\n",
       " 'Wakanda',\n",
       " 'Forever',\n",
       " '(',\n",
       " '2022',\n",
       " ')',\n",
       " '.',\n",
       " 'Ant-Man',\n",
       " 'and',\n",
       " 'the',\n",
       " 'Wasp',\n",
       " ':',\n",
       " 'Quantumania',\n",
       " '(',\n",
       " '2023',\n",
       " ')',\n",
       " 'began',\n",
       " 'Phase',\n",
       " 'Five',\n",
       " ',',\n",
       " 'which',\n",
       " 'will',\n",
       " 'end',\n",
       " 'with',\n",
       " 'Thunderbolts',\n",
       " '(',\n",
       " '2025',\n",
       " ')',\n",
       " ',',\n",
       " 'and',\n",
       " 'Phase',\n",
       " 'Six',\n",
       " 'will',\n",
       " 'begin',\n",
       " 'with',\n",
       " 'The',\n",
       " 'Fantastic',\n",
       " 'Four',\n",
       " '(',\n",
       " '2025',\n",
       " ')',\n",
       " '.',\n",
       " 'Phase',\n",
       " 'Six',\n",
       " 'and',\n",
       " '``',\n",
       " 'The',\n",
       " 'Multiverse',\n",
       " 'Saga',\n",
       " \"''\",\n",
       " 'will',\n",
       " 'conclude',\n",
       " 'with',\n",
       " 'Avengers',\n",
       " '5',\n",
       " '(',\n",
       " '2026',\n",
       " ')',\n",
       " 'and',\n",
       " 'Avengers',\n",
       " ':',\n",
       " 'Secret',\n",
       " 'Wars',\n",
       " '(',\n",
       " '2027',\n",
       " ')',\n",
       " '.',\n",
       " 'Marvel',\n",
       " 'Television',\n",
       " 'expanded',\n",
       " 'the',\n",
       " 'universe',\n",
       " 'to',\n",
       " 'network',\n",
       " 'television',\n",
       " 'with',\n",
       " 'Agents',\n",
       " 'of',\n",
       " 'S.H.I.E.L.D',\n",
       " '.',\n",
       " 'on',\n",
       " 'ABC',\n",
       " 'in',\n",
       " '2013',\n",
       " 'before',\n",
       " 'further',\n",
       " 'expanding',\n",
       " 'to',\n",
       " 'streaming',\n",
       " 'television',\n",
       " 'on',\n",
       " 'Netflix',\n",
       " 'and',\n",
       " 'Hulu',\n",
       " 'and',\n",
       " 'to',\n",
       " 'cable',\n",
       " 'television',\n",
       " 'on',\n",
       " 'Freeform',\n",
       " '.',\n",
       " 'They',\n",
       " 'also',\n",
       " 'produced',\n",
       " 'the',\n",
       " 'digital',\n",
       " 'series',\n",
       " 'Agents',\n",
       " 'of',\n",
       " 'S.H.I.E.L.D',\n",
       " '.',\n",
       " ':',\n",
       " 'Slingshot',\n",
       " '.',\n",
       " 'Marvel',\n",
       " 'Studios',\n",
       " 'began',\n",
       " 'producing',\n",
       " 'their',\n",
       " 'own',\n",
       " 'television',\n",
       " 'series',\n",
       " 'for',\n",
       " 'streaming',\n",
       " 'on',\n",
       " 'Disney+',\n",
       " ',',\n",
       " 'starting',\n",
       " 'with',\n",
       " 'WandaVision',\n",
       " 'in',\n",
       " '2021',\n",
       " 'as',\n",
       " 'the',\n",
       " 'beginning',\n",
       " 'of',\n",
       " 'Phase',\n",
       " 'Four',\n",
       " '.',\n",
       " 'They',\n",
       " 'also',\n",
       " 'expanded',\n",
       " 'to',\n",
       " 'television',\n",
       " 'specials',\n",
       " 'in',\n",
       " 'Phase',\n",
       " 'Four',\n",
       " ',',\n",
       " 'known',\n",
       " 'as',\n",
       " 'Marvel',\n",
       " 'Studios',\n",
       " 'Special',\n",
       " 'Presentations',\n",
       " ',',\n",
       " 'the',\n",
       " 'first',\n",
       " 'of',\n",
       " 'which',\n",
       " 'was',\n",
       " 'Werewolf',\n",
       " 'by',\n",
       " 'Night',\n",
       " '(',\n",
       " '2022',\n",
       " ')',\n",
       " '.',\n",
       " 'The',\n",
       " 'MCU',\n",
       " 'also',\n",
       " 'includes',\n",
       " 'tie-in',\n",
       " 'comics',\n",
       " 'published',\n",
       " 'by',\n",
       " 'Marvel',\n",
       " 'Comics',\n",
       " ',',\n",
       " 'a',\n",
       " 'series',\n",
       " 'of',\n",
       " 'direct-to-video',\n",
       " 'short',\n",
       " 'films',\n",
       " 'called',\n",
       " 'Marvel',\n",
       " 'One-Shots',\n",
       " ',',\n",
       " 'and',\n",
       " 'viral',\n",
       " 'marketing',\n",
       " 'campaigns',\n",
       " 'for',\n",
       " 'the',\n",
       " 'films',\n",
       " 'featuring',\n",
       " 'the',\n",
       " 'faux',\n",
       " 'news',\n",
       " 'programs',\n",
       " 'WHIH',\n",
       " 'Newsfront',\n",
       " 'and',\n",
       " 'The',\n",
       " 'Daily',\n",
       " 'Bugle',\n",
       " '.',\n",
       " 'The',\n",
       " 'franchise',\n",
       " 'has',\n",
       " 'been',\n",
       " 'commercially',\n",
       " 'successful',\n",
       " ',',\n",
       " 'becoming',\n",
       " 'one',\n",
       " 'of',\n",
       " 'the',\n",
       " 'highest-grossing',\n",
       " 'media',\n",
       " 'franchises',\n",
       " 'of',\n",
       " 'all',\n",
       " 'time',\n",
       " ',',\n",
       " 'and',\n",
       " 'generally',\n",
       " 'received',\n",
       " 'positive',\n",
       " 'reviews',\n",
       " '.',\n",
       " 'It',\n",
       " 'has',\n",
       " 'inspired',\n",
       " 'other',\n",
       " 'film',\n",
       " 'and',\n",
       " 'television',\n",
       " 'studios',\n",
       " 'to',\n",
       " 'attempt',\n",
       " 'similar',\n",
       " 'shared',\n",
       " 'universes',\n",
       " 'and',\n",
       " 'has',\n",
       " 'also',\n",
       " 'inspired',\n",
       " 'several',\n",
       " 'themed',\n",
       " 'attractions',\n",
       " ',',\n",
       " 'an',\n",
       " 'art',\n",
       " 'exhibit',\n",
       " ',',\n",
       " 'television',\n",
       " 'specials',\n",
       " ',',\n",
       " 'literary',\n",
       " 'material',\n",
       " ',',\n",
       " 'multiple',\n",
       " 'tie-in',\n",
       " 'video',\n",
       " 'games',\n",
       " ',',\n",
       " 'and',\n",
       " 'commercials',\n",
       " '.']"
      ]
     },
     "execution_count": 12,
     "metadata": {},
     "output_type": "execute_result"
    }
   ],
   "source": [
    "words"
   ]
  },
  {
   "cell_type": "markdown",
   "id": "a7eeae76",
   "metadata": {},
   "source": [
    "# Stopwords"
   ]
  },
  {
   "cell_type": "markdown",
   "id": "37164993",
   "metadata": {},
   "source": [
    "Whenever we are working with any text data then we have to remove the  stopwords from the text because these stop words does not add any specific value to the actual information of the text.\n",
    "\n",
    "\n",
    "Eg: Jacob is an intelligent person.\n",
    "\n",
    "stopwords:  is an\n",
    "\n",
    "Jacob intelligent person"
   ]
  },
  {
   "cell_type": "code",
   "execution_count": 13,
   "id": "6dfcbf5a-a0da-4e4d-868a-6cd770e21a6b",
   "metadata": {},
   "outputs": [
    {
     "data": {
      "text/plain": [
       "''"
      ]
     },
     "execution_count": 13,
     "metadata": {},
     "output_type": "execute_result"
    }
   ],
   "source": [
    "\"\"\"\n",
    "The food was bad, I want my refund.\n",
    "\n",
    "food bad want refund\n",
    "\n",
    "\n",
    "Applying\n",
    "applied\n",
    "apply\n",
    "\n",
    "apply\n",
    "\n",
    "going\n",
    "goes\n",
    "gone\n",
    "\n",
    "go\n",
    "\n",
    "\n",
    "\n",
    "\n",
    "\"\"\""
   ]
  },
  {
   "cell_type": "code",
   "execution_count": 15,
   "id": "6df4b107",
   "metadata": {},
   "outputs": [],
   "source": [
    "from nltk.corpus import stopwords"
   ]
  },
  {
   "cell_type": "code",
   "execution_count": 16,
   "id": "364ec272",
   "metadata": {},
   "outputs": [
    {
     "data": {
      "text/plain": [
       "['i',\n",
       " 'me',\n",
       " 'my',\n",
       " 'myself',\n",
       " 'we',\n",
       " 'our',\n",
       " 'ours',\n",
       " 'ourselves',\n",
       " 'you',\n",
       " \"you're\",\n",
       " \"you've\",\n",
       " \"you'll\",\n",
       " \"you'd\",\n",
       " 'your',\n",
       " 'yours',\n",
       " 'yourself',\n",
       " 'yourselves',\n",
       " 'he',\n",
       " 'him',\n",
       " 'his',\n",
       " 'himself',\n",
       " 'she',\n",
       " \"she's\",\n",
       " 'her',\n",
       " 'hers',\n",
       " 'herself',\n",
       " 'it',\n",
       " \"it's\",\n",
       " 'its',\n",
       " 'itself',\n",
       " 'they',\n",
       " 'them',\n",
       " 'their',\n",
       " 'theirs',\n",
       " 'themselves',\n",
       " 'what',\n",
       " 'which',\n",
       " 'who',\n",
       " 'whom',\n",
       " 'this',\n",
       " 'that',\n",
       " \"that'll\",\n",
       " 'these',\n",
       " 'those',\n",
       " 'am',\n",
       " 'is',\n",
       " 'are',\n",
       " 'was',\n",
       " 'were',\n",
       " 'be',\n",
       " 'been',\n",
       " 'being',\n",
       " 'have',\n",
       " 'has',\n",
       " 'had',\n",
       " 'having',\n",
       " 'do',\n",
       " 'does',\n",
       " 'did',\n",
       " 'doing',\n",
       " 'a',\n",
       " 'an',\n",
       " 'the',\n",
       " 'and',\n",
       " 'but',\n",
       " 'if',\n",
       " 'or',\n",
       " 'because',\n",
       " 'as',\n",
       " 'until',\n",
       " 'while',\n",
       " 'of',\n",
       " 'at',\n",
       " 'by',\n",
       " 'for',\n",
       " 'with',\n",
       " 'about',\n",
       " 'against',\n",
       " 'between',\n",
       " 'into',\n",
       " 'through',\n",
       " 'during',\n",
       " 'before',\n",
       " 'after',\n",
       " 'above',\n",
       " 'below',\n",
       " 'to',\n",
       " 'from',\n",
       " 'up',\n",
       " 'down',\n",
       " 'in',\n",
       " 'out',\n",
       " 'on',\n",
       " 'off',\n",
       " 'over',\n",
       " 'under',\n",
       " 'again',\n",
       " 'further',\n",
       " 'then',\n",
       " 'once',\n",
       " 'here',\n",
       " 'there',\n",
       " 'when',\n",
       " 'where',\n",
       " 'why',\n",
       " 'how',\n",
       " 'all',\n",
       " 'any',\n",
       " 'both',\n",
       " 'each',\n",
       " 'few',\n",
       " 'more',\n",
       " 'most',\n",
       " 'other',\n",
       " 'some',\n",
       " 'such',\n",
       " 'no',\n",
       " 'nor',\n",
       " 'not',\n",
       " 'only',\n",
       " 'own',\n",
       " 'same',\n",
       " 'so',\n",
       " 'than',\n",
       " 'too',\n",
       " 'very',\n",
       " 's',\n",
       " 't',\n",
       " 'can',\n",
       " 'will',\n",
       " 'just',\n",
       " 'don',\n",
       " \"don't\",\n",
       " 'should',\n",
       " \"should've\",\n",
       " 'now',\n",
       " 'd',\n",
       " 'll',\n",
       " 'm',\n",
       " 'o',\n",
       " 're',\n",
       " 've',\n",
       " 'y',\n",
       " 'ain',\n",
       " 'aren',\n",
       " \"aren't\",\n",
       " 'couldn',\n",
       " \"couldn't\",\n",
       " 'didn',\n",
       " \"didn't\",\n",
       " 'doesn',\n",
       " \"doesn't\",\n",
       " 'hadn',\n",
       " \"hadn't\",\n",
       " 'hasn',\n",
       " \"hasn't\",\n",
       " 'haven',\n",
       " \"haven't\",\n",
       " 'isn',\n",
       " \"isn't\",\n",
       " 'ma',\n",
       " 'mightn',\n",
       " \"mightn't\",\n",
       " 'mustn',\n",
       " \"mustn't\",\n",
       " 'needn',\n",
       " \"needn't\",\n",
       " 'shan',\n",
       " \"shan't\",\n",
       " 'shouldn',\n",
       " \"shouldn't\",\n",
       " 'wasn',\n",
       " \"wasn't\",\n",
       " 'weren',\n",
       " \"weren't\",\n",
       " 'won',\n",
       " \"won't\",\n",
       " 'wouldn',\n",
       " \"wouldn't\"]"
      ]
     },
     "execution_count": 16,
     "metadata": {},
     "output_type": "execute_result"
    }
   ],
   "source": [
    "stopwords.words('english')\n",
    "# stopwords.words('german')\n",
    "# stopwords.words('spanish')"
   ]
  },
  {
   "cell_type": "markdown",
   "id": "b53cad02",
   "metadata": {},
   "source": [
    "# Stemming"
   ]
  },
  {
   "cell_type": "code",
   "execution_count": 24,
   "id": "5f108d47",
   "metadata": {},
   "outputs": [],
   "source": [
    "stemmer = nltk.PorterStemmer()"
   ]
  },
  {
   "cell_type": "code",
   "execution_count": null,
   "id": "96f3a030",
   "metadata": {},
   "outputs": [],
   "source": [
    "len(sentences)"
   ]
  },
  {
   "cell_type": "code",
   "execution_count": null,
   "id": "27a9dad5",
   "metadata": {},
   "outputs": [],
   "source": [
    "sentences[0]"
   ]
  },
  {
   "cell_type": "code",
   "execution_count": null,
   "id": "7ea844ca",
   "metadata": {},
   "outputs": [],
   "source": [
    "nltk.word_tokenize(sentences[0])"
   ]
  },
  {
   "cell_type": "code",
   "execution_count": null,
   "id": "4741a532",
   "metadata": {},
   "outputs": [],
   "source": [
    "#list comprehension\n",
    "\n",
    "#[operation   for loop on the list   if condition]"
   ]
  },
  {
   "cell_type": "code",
   "execution_count": null,
   "id": "607b147c",
   "metadata": {},
   "outputs": [],
   "source": [
    "even = []\n",
    "for i in range(21):\n",
    "    if i %2==0:\n",
    "        even.append(i*5)\n",
    "print(even)\n",
    "        "
   ]
  },
  {
   "cell_type": "code",
   "execution_count": null,
   "id": "4cc998a0",
   "metadata": {},
   "outputs": [],
   "source": [
    "even_list = [i*5 for i in range(21) if i%2==0]"
   ]
  },
  {
   "cell_type": "code",
   "execution_count": null,
   "id": "512e3d4d",
   "metadata": {},
   "outputs": [],
   "source": [
    "even_list"
   ]
  },
  {
   "cell_type": "code",
   "execution_count": null,
   "id": "edd50cd3",
   "metadata": {},
   "outputs": [],
   "source": [
    "words_list=nltk.word_tokenize(sentences[0])"
   ]
  },
  {
   "cell_type": "code",
   "execution_count": null,
   "id": "0317259f",
   "metadata": {},
   "outputs": [],
   "source": [
    "words_list"
   ]
  },
  {
   "cell_type": "code",
   "execution_count": null,
   "id": "c1162297",
   "metadata": {},
   "outputs": [],
   "source": [
    "\" \".join(words_list)"
   ]
  },
  {
   "cell_type": "code",
   "execution_count": null,
   "id": "385f6a28",
   "metadata": {},
   "outputs": [],
   "source": [
    "ls=[\"Disney\", \"DC\", \"DreamWorks\"]"
   ]
  },
  {
   "cell_type": "code",
   "execution_count": null,
   "id": "cc2c09cd",
   "metadata": {},
   "outputs": [],
   "source": [
    "word=\"marvel\"\n",
    "if word in set(ls):\n",
    "    print(\"Word is not present\")\n",
    "else:\n",
    "    print(\"Word is present\")"
   ]
  },
  {
   "cell_type": "code",
   "execution_count": null,
   "id": "bd204aac",
   "metadata": {},
   "outputs": [],
   "source": [
    "[stemmer.stem(word) for word in words_list if word not in set(stopwords.words('english'))]"
   ]
  },
  {
   "cell_type": "code",
   "execution_count": 25,
   "id": "ff11ba39",
   "metadata": {},
   "outputs": [],
   "source": [
    "stem_sentences = nltk.sent_tokenize(passage)"
   ]
  },
  {
   "cell_type": "code",
   "execution_count": 26,
   "id": "23cb8878",
   "metadata": {},
   "outputs": [],
   "source": [
    "for i in range(len(stem_sentences)): #0\n",
    "    words_list = nltk.word_tokenize(stem_sentences[i])\n",
    "    words = [stemmer.stem(word) for word in words_list if word not in set(stopwords.words('english'))]\n",
    "    stem_sentences[i] = ' '.join(words)"
   ]
  },
  {
   "cell_type": "code",
   "execution_count": null,
   "id": "5d9dd85c",
   "metadata": {},
   "outputs": [],
   "source": [
    "# stem_sentences"
   ]
  },
  {
   "cell_type": "code",
   "execution_count": null,
   "id": "d64a3461",
   "metadata": {},
   "outputs": [],
   "source": [
    "sentences"
   ]
  },
  {
   "cell_type": "code",
   "execution_count": null,
   "id": "fc97300e",
   "metadata": {},
   "outputs": [],
   "source": []
  },
  {
   "cell_type": "markdown",
   "id": "eef0c53f",
   "metadata": {},
   "source": [
    "# Lemmatization"
   ]
  },
  {
   "cell_type": "code",
   "execution_count": 9,
   "id": "3acfe544",
   "metadata": {},
   "outputs": [],
   "source": [
    "lemma_sentences=nltk.sent_tokenize(passage)"
   ]
  },
  {
   "cell_type": "code",
   "execution_count": 10,
   "id": "832f2d5d",
   "metadata": {},
   "outputs": [],
   "source": [
    "from nltk.stem import WordNetLemmatizer"
   ]
  },
  {
   "cell_type": "code",
   "execution_count": 11,
   "id": "b3b380d0",
   "metadata": {},
   "outputs": [],
   "source": [
    "lemmatizer=WordNetLemmatizer()"
   ]
  },
  {
   "cell_type": "code",
   "execution_count": 12,
   "id": "08a367ad",
   "metadata": {},
   "outputs": [],
   "source": [
    "for i in range(len(lemma_sentences)):\n",
    "    words_list = nltk.word_tokenize(lemma_sentences[i])\n",
    "    words = [lemmatizer.lemmatize(word) for word in words_list if word not in set(stopwords.words(\"english\"))]\n",
    "    lemma_sentences[i] = \" \".join(words)\n",
    "    "
   ]
  },
  {
   "cell_type": "code",
   "execution_count": null,
   "id": "4106de47",
   "metadata": {},
   "outputs": [],
   "source": [
    "print(\"Actual Sentence: \\n\", sentences[0])\n",
    "print(\"\\n\\nStemming Sentence: \\n\", stem_sentences[0])\n",
    "print(\"\\n\\nLemmatized Sentence: \\n\", lemma_sentences[0])"
   ]
  },
  {
   "cell_type": "markdown",
   "id": "32af1c34",
   "metadata": {},
   "source": [
    "# Removal of the punctuation"
   ]
  },
  {
   "cell_type": "code",
   "execution_count": 18,
   "id": "20841cc2",
   "metadata": {},
   "outputs": [],
   "source": [
    "import re "
   ]
  },
  {
   "cell_type": "code",
   "execution_count": null,
   "id": "674ffd68",
   "metadata": {},
   "outputs": [],
   "source": [
    "text= sentences[0]"
   ]
  },
  {
   "cell_type": "code",
   "execution_count": 17,
   "id": "b06a1001",
   "metadata": {},
   "outputs": [],
   "source": [
    "text=\"Hey ! Wassup!, it doesn't sound good to me. Can you give me $500 ? \""
   ]
  },
  {
   "cell_type": "code",
   "execution_count": 16,
   "id": "c3df2b12",
   "metadata": {},
   "outputs": [
    {
     "data": {
      "text/plain": [
       "\"Hey ! Wassup!, it doesn't sound good to me. Can you give me $500 ? \""
      ]
     },
     "execution_count": 16,
     "metadata": {},
     "output_type": "execute_result"
    }
   ],
   "source": [
    "text"
   ]
  },
  {
   "cell_type": "code",
   "execution_count": 19,
   "id": "744ff7e7",
   "metadata": {},
   "outputs": [
    {
     "data": {
      "text/plain": [
       "'Hey   Wassup   it doesn t sound good to me  Can you give me $500   '"
      ]
     },
     "execution_count": 19,
     "metadata": {},
     "output_type": "execute_result"
    }
   ],
   "source": [
    "text=re.sub('[^$a-zA-Z0-9]', ' ', text)\n",
    "text"
   ]
  },
  {
   "cell_type": "code",
   "execution_count": null,
   "id": "f5fc7743",
   "metadata": {},
   "outputs": [],
   "source": [
    "text.lower()"
   ]
  },
  {
   "cell_type": "code",
   "execution_count": 22,
   "id": "154ee1be",
   "metadata": {},
   "outputs": [],
   "source": [
    "corpus=[]\n",
    "for i in range(len(sentences)):\n",
    "    review=re.sub('[^a-zA-Z0-9]', ' ', sentences[i])            #removal of the punctuation\n",
    "    \n",
    "    review=review.lower()             # convert the sentencce into the lowercase\n",
    "    \n",
    "    review=review.split()         #split is creating a list of words of sentence/ you can use word tokenizer\n",
    "    \n",
    "    review=[lemmatizer.lemmatize(word) for word in review if word not in stopwords.words('english')]\n",
    "    \n",
    "    review=' '.join(review)\n",
    "    \n",
    "    corpus.append(review)"
   ]
  },
  {
   "cell_type": "code",
   "execution_count": 28,
   "id": "0d079617",
   "metadata": {},
   "outputs": [
    {
     "name": "stdout",
     "output_type": "stream",
     "text": [
      "Actual Sentence: \n",
      "  The Marvel Cinematic Universe (MCU) is an American media franchise and shared universe centered on a series of superhero films produced by Marvel Studios.\n",
      "\n",
      "\n",
      "Stemming Sentence: \n",
      " the marvel cinemat univers ( mcu ) american media franchis share univers center seri superhero film produc marvel studio .\n",
      "\n",
      "\n",
      "Lemmatized Sentence: \n",
      "  The Marvel Cinematic Universe (MCU) is an American media franchise and shared universe centered on a series of superhero films produced by Marvel Studios.\n",
      "\n",
      "\n",
      "Lemmatized v2 Sentence: \n",
      " marvel cinematic universe mcu american medium franchise shared universe centered series superhero film produced marvel studio\n"
     ]
    }
   ],
   "source": [
    "print(\"Actual Sentence: \\n\", sentences[0])\n",
    "print(\"\\n\\nStemming Sentence: \\n\", stem_sentences[0])\n",
    "print(\"\\n\\nLemmatized Sentence: \\n\", lemma_sentences[0])\n",
    "print(\"\\n\\nLemmatized v2 Sentence: \\n\", corpus[0])"
   ]
  },
  {
   "cell_type": "markdown",
   "id": "744905fc",
   "metadata": {},
   "source": [
    "# Vectorization\n"
   ]
  },
  {
   "cell_type": "markdown",
   "id": "84b3609c",
   "metadata": {},
   "source": [
    "1: bag of words\n",
    "\n",
    "2: TF-IDF (Term Frequeny - Inverse Document Frequency)"
   ]
  },
  {
   "cell_type": "markdown",
   "id": "741de1fc",
   "metadata": {},
   "source": [
    "# Bag of Words "
   ]
  },
  {
   "cell_type": "code",
   "execution_count": 29,
   "id": "59a41f30",
   "metadata": {},
   "outputs": [],
   "source": [
    "from sklearn.feature_extraction.text import CountVectorizer"
   ]
  },
  {
   "cell_type": "code",
   "execution_count": 30,
   "id": "cbc271d8",
   "metadata": {},
   "outputs": [],
   "source": [
    "# cv=CountVectorizer(max_features=1500)\n",
    "\n",
    "cv=CountVectorizer()"
   ]
  },
  {
   "cell_type": "code",
   "execution_count": 31,
   "id": "910b3dad",
   "metadata": {},
   "outputs": [],
   "source": [
    "X=cv.fit_transform(corpus).toarray()"
   ]
  },
  {
   "cell_type": "code",
   "execution_count": 32,
   "id": "91425f8b",
   "metadata": {},
   "outputs": [
    {
     "data": {
      "text/plain": [
       "array([[0, 0, 0, ..., 0, 0, 0],\n",
       "       [0, 0, 0, ..., 0, 0, 0],\n",
       "       [0, 0, 0, ..., 0, 0, 0],\n",
       "       ...,\n",
       "       [0, 0, 0, ..., 0, 1, 0],\n",
       "       [0, 0, 0, ..., 0, 0, 0],\n",
       "       [0, 0, 0, ..., 0, 0, 0]], dtype=int64)"
      ]
     },
     "execution_count": 32,
     "metadata": {},
     "output_type": "execute_result"
    }
   ],
   "source": [
    "X"
   ]
  },
  {
   "cell_type": "code",
   "execution_count": 33,
   "id": "4f94fce2",
   "metadata": {},
   "outputs": [
    {
     "data": {
      "text/plain": [
       "20"
      ]
     },
     "execution_count": 33,
     "metadata": {},
     "output_type": "execute_result"
    }
   ],
   "source": [
    "len(sentences)"
   ]
  },
  {
   "cell_type": "code",
   "execution_count": 34,
   "id": "90f8a198",
   "metadata": {},
   "outputs": [
    {
     "data": {
      "text/plain": [
       "(20, 151)"
      ]
     },
     "execution_count": 34,
     "metadata": {},
     "output_type": "execute_result"
    }
   ],
   "source": [
    "X.shape"
   ]
  },
  {
   "cell_type": "code",
   "execution_count": 35,
   "id": "df79f67c",
   "metadata": {},
   "outputs": [
    {
     "data": {
      "text/plain": [
       "' The Marvel Cinematic Universe (MCU) is an American media franchise and shared universe centered on a series of superhero films produced by Marvel Studios.'"
      ]
     },
     "execution_count": 35,
     "metadata": {},
     "output_type": "execute_result"
    }
   ],
   "source": [
    "sentences[0]"
   ]
  },
  {
   "cell_type": "code",
   "execution_count": 41,
   "id": "26fcf836",
   "metadata": {},
   "outputs": [
    {
     "data": {
      "text/plain": [
       "' The Marvel Cinematic Universe (MCU) is an American media franchise and shared universe centered on a series of superhero films produced by Marvel Studios. The films are based on characters that appear in American comic books published by Marvel Comics. The franchise also includes television series, short films, digital series, and literature. The shared universe, much like the original Marvel Universe in comic books, was established by crossing over common plot elements, settings, cast, and characters.\\n\\nMarvel Studios releases its films in groups called \"Phases\", with the first three phases collectively known as \"The Infinity Saga\" and the following three phases as \"The Multiverse Saga\". The first MCU film, Iron Man (2008), began Phase One, which culminated in the 2012 crossover film The Avengers. Phase Two began with Iron Man 3 (2013) and concluded with Ant-Man (2015). Phase Three began with Captain America: Civil War (2016) and concluded with Spider-Man: Far From Home (2019). Phase Four began with Black Widow (2021) and concluded with Black Panther: Wakanda Forever (2022). Ant-Man and the Wasp: Quantumania (2023) began Phase Five, which will end with Thunderbolts (2025), and Phase Six will begin with The Fantastic Four (2025). Phase Six and \"The Multiverse Saga\" will conclude with Avengers 5 (2026) and Avengers: Secret Wars (2027).\\n\\nMarvel Television expanded the universe to network television with Agents of S.H.I.E.L.D. on ABC in 2013 before further expanding to streaming television on Netflix and Hulu and to cable television on Freeform. They also produced the digital series Agents of S.H.I.E.L.D.: Slingshot. Marvel Studios began producing their own television series for streaming on Disney+, starting with WandaVision in 2021 as the beginning of Phase Four. They also expanded to television specials in Phase Four, known as Marvel Studios Special Presentations, the first of which was Werewolf by Night (2022). The MCU also includes tie-in comics published by Marvel Comics, a series of direct-to-video short films called Marvel One-Shots, and viral marketing campaigns for the films featuring the faux news programs WHIH Newsfront and The Daily Bugle.\\n\\nThe franchise has been commercially successful, becoming one of the highest-grossing media franchises of all time, and generally received positive reviews. It has inspired other film and television studios to attempt similar shared universes and has also inspired several themed attractions, an art exhibit, television specials, literary material, multiple tie-in video games, and commercials.'"
      ]
     },
     "execution_count": 41,
     "metadata": {},
     "output_type": "execute_result"
    }
   ],
   "source": [
    "passage"
   ]
  },
  {
   "cell_type": "code",
   "execution_count": 36,
   "id": "c751f738",
   "metadata": {},
   "outputs": [
    {
     "data": {
      "text/plain": [
       "'marvel cinematic universe mcu american medium franchise shared universe centered series superhero film produced marvel studio'"
      ]
     },
     "execution_count": 36,
     "metadata": {},
     "output_type": "execute_result"
    }
   ],
   "source": [
    "corpus[0]"
   ]
  },
  {
   "cell_type": "code",
   "execution_count": 39,
   "id": "51f7dcb3",
   "metadata": {},
   "outputs": [
    {
     "data": {
      "text/plain": [
       "array([[0, 0, 0, ..., 0, 0, 0],\n",
       "       [0, 0, 0, ..., 0, 0, 0],\n",
       "       [0, 0, 0, ..., 0, 0, 0],\n",
       "       ...,\n",
       "       [0, 0, 0, ..., 0, 1, 0],\n",
       "       [0, 0, 0, ..., 0, 0, 0],\n",
       "       [0, 0, 0, ..., 0, 0, 0]], dtype=int64)"
      ]
     },
     "execution_count": 39,
     "metadata": {},
     "output_type": "execute_result"
    }
   ],
   "source": [
    "X"
   ]
  },
  {
   "cell_type": "code",
   "execution_count": 37,
   "id": "c9dca55f",
   "metadata": {},
   "outputs": [
    {
     "data": {
      "text/plain": [
       "array([0, 0, 0, 0, 0, 0, 0, 0, 0, 0, 0, 0, 0, 0, 0, 0, 1, 0, 0, 0, 0, 0,\n",
       "       0, 0, 0, 0, 0, 0, 0, 0, 0, 0, 0, 0, 0, 0, 1, 0, 1, 0, 0, 0, 0, 0,\n",
       "       0, 0, 0, 0, 0, 0, 0, 0, 0, 0, 0, 0, 0, 0, 0, 0, 0, 0, 0, 0, 1, 0,\n",
       "       0, 0, 0, 0, 1, 0, 0, 0, 0, 0, 0, 0, 0, 0, 0, 0, 0, 0, 0, 0, 0, 0,\n",
       "       0, 2, 0, 1, 1, 0, 0, 0, 0, 0, 0, 0, 0, 0, 0, 0, 0, 0, 0, 0, 1, 0,\n",
       "       0, 0, 0, 0, 0, 0, 0, 0, 1, 0, 0, 1, 0, 0, 0, 0, 0, 0, 0, 0, 0, 1,\n",
       "       0, 1, 0, 0, 0, 0, 0, 0, 0, 2, 0, 0, 0, 0, 0, 0, 0, 0, 0],\n",
       "      dtype=int64)"
      ]
     },
     "execution_count": 37,
     "metadata": {},
     "output_type": "execute_result"
    }
   ],
   "source": [
    "X[0]"
   ]
  },
  {
   "cell_type": "code",
   "execution_count": 40,
   "id": "76b50542",
   "metadata": {},
   "outputs": [
    {
     "data": {
      "text/plain": [
       "array([0, 0, 0, 0, 0, 0, 0, 0, 0, 0, 0, 0, 0, 0, 0, 0, 1, 0, 1, 0, 0, 0,\n",
       "       0, 1, 0, 0, 0, 0, 0, 1, 0, 0, 0, 0, 0, 0, 0, 1, 0, 0, 0, 2, 0, 0,\n",
       "       0, 0, 0, 0, 0, 0, 0, 0, 0, 0, 0, 0, 0, 0, 0, 0, 0, 0, 0, 0, 1, 0,\n",
       "       0, 0, 0, 0, 0, 0, 0, 0, 0, 0, 0, 0, 0, 0, 0, 0, 0, 0, 0, 0, 0, 0,\n",
       "       0, 1, 0, 0, 0, 0, 0, 0, 0, 0, 0, 0, 0, 0, 0, 0, 0, 0, 0, 0, 0, 0,\n",
       "       0, 1, 0, 0, 0, 0, 0, 0, 0, 0, 0, 0, 0, 0, 0, 0, 0, 0, 0, 0, 0, 0,\n",
       "       0, 0, 0, 0, 0, 0, 0, 0, 0, 0, 0, 0, 0, 0, 0, 0, 0, 0, 0],\n",
       "      dtype=int64)"
      ]
     },
     "execution_count": 40,
     "metadata": {},
     "output_type": "execute_result"
    }
   ],
   "source": [
    "X[1]"
   ]
  },
  {
   "cell_type": "code",
   "execution_count": 38,
   "id": "e90a05e2",
   "metadata": {},
   "outputs": [
    {
     "data": {
      "text/plain": [
       "array(['2008', '2012', '2013', '2015', '2016', '2019', '2021', '2022',\n",
       "       '2023', '2025', '2026', '2027', 'abc', 'agent', 'also', 'america',\n",
       "       'american', 'ant', 'appear', 'art', 'attempt', 'attraction',\n",
       "       'avenger', 'based', 'becoming', 'began', 'begin', 'beginning',\n",
       "       'black', 'book', 'bugle', 'cable', 'called', 'campaign', 'captain',\n",
       "       'cast', 'centered', 'character', 'cinematic', 'civil',\n",
       "       'collectively', 'comic', 'commercial', 'commercially', 'common',\n",
       "       'conclude', 'concluded', 'crossing', 'crossover', 'culminated',\n",
       "       'daily', 'digital', 'direct', 'disney', 'element', 'end',\n",
       "       'established', 'exhibit', 'expanded', 'expanding', 'fantastic',\n",
       "       'far', 'faux', 'featuring', 'film', 'first', 'five', 'following',\n",
       "       'forever', 'four', 'franchise', 'freeform', 'game', 'generally',\n",
       "       'grossing', 'group', 'highest', 'home', 'hulu', 'includes',\n",
       "       'infinity', 'inspired', 'iron', 'known', 'like', 'literary',\n",
       "       'literature', 'man', 'marketing', 'marvel', 'material', 'mcu',\n",
       "       'medium', 'much', 'multiple', 'multiverse', 'netflix', 'network',\n",
       "       'news', 'newsfront', 'night', 'one', 'original', 'panther',\n",
       "       'phase', 'plot', 'positive', 'presentation', 'produced',\n",
       "       'producing', 'program', 'published', 'quantumania', 'received',\n",
       "       'release', 'review', 'saga', 'secret', 'series', 'setting',\n",
       "       'several', 'shared', 'short', 'shot', 'similar', 'six',\n",
       "       'slingshot', 'special', 'spider', 'starting', 'streaming',\n",
       "       'studio', 'successful', 'superhero', 'television', 'themed',\n",
       "       'three', 'thunderbolt', 'tie', 'time', 'two', 'universe', 'video',\n",
       "       'viral', 'wakanda', 'wandavision', 'war', 'wasp', 'werewolf',\n",
       "       'whih', 'widow'], dtype=object)"
      ]
     },
     "execution_count": 38,
     "metadata": {},
     "output_type": "execute_result"
    }
   ],
   "source": [
    "cv.get_feature_names_out()"
   ]
  },
  {
   "cell_type": "code",
   "execution_count": null,
   "id": "c8a4f16e",
   "metadata": {},
   "outputs": [],
   "source": [
    "dir(cv)"
   ]
  },
  {
   "cell_type": "code",
   "execution_count": null,
   "id": "3a8dedfe",
   "metadata": {},
   "outputs": [],
   "source": [
    "cv.vocabulary_"
   ]
  },
  {
   "cell_type": "code",
   "execution_count": null,
   "id": "762e4ef2",
   "metadata": {},
   "outputs": [],
   "source": []
  },
  {
   "cell_type": "markdown",
   "id": "6315d5ca",
   "metadata": {},
   "source": [
    "# TF-IDF"
   ]
  },
  {
   "cell_type": "markdown",
   "id": "81d830f8",
   "metadata": {},
   "source": [
    "Term Frequency -Inverse Document frequency"
   ]
  },
  {
   "cell_type": "markdown",
   "id": "407db5fb",
   "metadata": {},
   "source": [
    "Term Frequency =  ( No. of repetition of the word in sentence / Total No. of words in the sentence )\n",
    "\n",
    "Inverse Document Frequency = log ( No. of sentences in the corpus /  No. of sentences containing that word ) \n",
    "\n",
    "for finding the exact weight: TF * IDF"
   ]
  },
  {
   "cell_type": "code",
   "execution_count": 42,
   "id": "cc875bfd",
   "metadata": {},
   "outputs": [],
   "source": [
    "from sklearn.feature_extraction.text import TfidfVectorizer"
   ]
  },
  {
   "cell_type": "code",
   "execution_count": 43,
   "id": "9fffa3b3",
   "metadata": {},
   "outputs": [],
   "source": [
    "tf=TfidfVectorizer()"
   ]
  },
  {
   "cell_type": "code",
   "execution_count": 44,
   "id": "3474a459",
   "metadata": {},
   "outputs": [],
   "source": [
    "X_tf=tf.fit_transform(corpus).toarray()"
   ]
  },
  {
   "cell_type": "code",
   "execution_count": 45,
   "id": "2d0ef953",
   "metadata": {},
   "outputs": [
    {
     "data": {
      "text/plain": [
       "array([[0.        , 0.        , 0.        , ..., 0.        , 0.        ,\n",
       "        0.        ],\n",
       "       [0.        , 0.        , 0.        , ..., 0.        , 0.        ,\n",
       "        0.        ],\n",
       "       [0.        , 0.        , 0.        , ..., 0.        , 0.        ,\n",
       "        0.        ],\n",
       "       ...,\n",
       "       [0.        , 0.        , 0.        , ..., 0.        , 0.20038113,\n",
       "        0.        ],\n",
       "       [0.        , 0.        , 0.        , ..., 0.        , 0.        ,\n",
       "        0.        ],\n",
       "       [0.        , 0.        , 0.        , ..., 0.        , 0.        ,\n",
       "        0.        ]])"
      ]
     },
     "execution_count": 45,
     "metadata": {},
     "output_type": "execute_result"
    }
   ],
   "source": [
    "X_tf"
   ]
  },
  {
   "cell_type": "code",
   "execution_count": 46,
   "id": "8fce8fa0",
   "metadata": {},
   "outputs": [
    {
     "data": {
      "text/plain": [
       "array([0.        , 0.        , 0.        , 0.        , 0.        ,\n",
       "       0.        , 0.        , 0.        , 0.        , 0.        ,\n",
       "       0.        , 0.        , 0.        , 0.        , 0.        ,\n",
       "       0.        , 0.25610913, 0.        , 0.        , 0.        ,\n",
       "       0.        , 0.        , 0.        , 0.        , 0.        ,\n",
       "       0.        , 0.        , 0.        , 0.        , 0.        ,\n",
       "       0.        , 0.        , 0.        , 0.        , 0.        ,\n",
       "       0.        , 0.29135912, 0.        , 0.29135912, 0.        ,\n",
       "       0.        , 0.        , 0.        , 0.        , 0.        ,\n",
       "       0.        , 0.        , 0.        , 0.        , 0.        ,\n",
       "       0.        , 0.        , 0.        , 0.        , 0.        ,\n",
       "       0.        , 0.        , 0.        , 0.        , 0.        ,\n",
       "       0.        , 0.        , 0.        , 0.        , 0.1708386 ,\n",
       "       0.        , 0.        , 0.        , 0.        , 0.        ,\n",
       "       0.23109886, 0.        , 0.        , 0.        , 0.        ,\n",
       "       0.        , 0.        , 0.        , 0.        , 0.        ,\n",
       "       0.        , 0.        , 0.        , 0.        , 0.        ,\n",
       "       0.        , 0.        , 0.        , 0.        , 0.32119774,\n",
       "       0.        , 0.23109886, 0.25610913, 0.        , 0.        ,\n",
       "       0.        , 0.        , 0.        , 0.        , 0.        ,\n",
       "       0.        , 0.        , 0.        , 0.        , 0.        ,\n",
       "       0.        , 0.        , 0.        , 0.25610913, 0.        ,\n",
       "       0.        , 0.        , 0.        , 0.        , 0.        ,\n",
       "       0.        , 0.        , 0.        , 0.19584886, 0.        ,\n",
       "       0.        , 0.23109886, 0.        , 0.        , 0.        ,\n",
       "       0.        , 0.        , 0.        , 0.        , 0.        ,\n",
       "       0.        , 0.19584886, 0.        , 0.29135912, 0.        ,\n",
       "       0.        , 0.        , 0.        , 0.        , 0.        ,\n",
       "       0.        , 0.42339877, 0.        , 0.        , 0.        ,\n",
       "       0.        , 0.        , 0.        , 0.        , 0.        ,\n",
       "       0.        ])"
      ]
     },
     "execution_count": 46,
     "metadata": {},
     "output_type": "execute_result"
    }
   ],
   "source": [
    "X_tf[0]"
   ]
  },
  {
   "cell_type": "code",
   "execution_count": 47,
   "id": "a89b5f00",
   "metadata": {},
   "outputs": [
    {
     "data": {
      "text/plain": [
       "array([0, 0, 0, 0, 0, 0, 0, 0, 0, 0, 0, 0, 0, 0, 0, 0, 1, 0, 0, 0, 0, 0,\n",
       "       0, 0, 0, 0, 0, 0, 0, 0, 0, 0, 0, 0, 0, 0, 1, 0, 1, 0, 0, 0, 0, 0,\n",
       "       0, 0, 0, 0, 0, 0, 0, 0, 0, 0, 0, 0, 0, 0, 0, 0, 0, 0, 0, 0, 1, 0,\n",
       "       0, 0, 0, 0, 1, 0, 0, 0, 0, 0, 0, 0, 0, 0, 0, 0, 0, 0, 0, 0, 0, 0,\n",
       "       0, 2, 0, 1, 1, 0, 0, 0, 0, 0, 0, 0, 0, 0, 0, 0, 0, 0, 0, 0, 1, 0,\n",
       "       0, 0, 0, 0, 0, 0, 0, 0, 1, 0, 0, 1, 0, 0, 0, 0, 0, 0, 0, 0, 0, 1,\n",
       "       0, 1, 0, 0, 0, 0, 0, 0, 0, 2, 0, 0, 0, 0, 0, 0, 0, 0, 0],\n",
       "      dtype=int64)"
      ]
     },
     "execution_count": 47,
     "metadata": {},
     "output_type": "execute_result"
    }
   ],
   "source": [
    "X[0]"
   ]
  },
  {
   "cell_type": "markdown",
   "id": "3503c404",
   "metadata": {},
   "source": [
    "# Word2Vec"
   ]
  },
  {
   "cell_type": "markdown",
   "id": "3100c161",
   "metadata": {},
   "source": [
    "## Bag of Words and TF IDF Problems"
   ]
  },
  {
   "cell_type": "markdown",
   "id": "a036f260",
   "metadata": {},
   "source": [
    "Both BOW and TF-IDF approach semantic information is NOT saved. \n",
    "\n",
    "TF-IDF gives importance to the uncommon words.\n",
    "\n",
    "There are chances of overfitting"
   ]
  },
  {
   "cell_type": "markdown",
   "id": "51802c10",
   "metadata": {},
   "source": [
    "## Solution - Word2Vec"
   ]
  },
  {
   "cell_type": "markdown",
   "id": "767bd962",
   "metadata": {},
   "source": [
    "In this specific model, each word is basically represented as a vector of 32 or more dimension instead of a single number\n",
    "\n",
    "Here the semantic information and relation between different words is also presereved."
   ]
  },
  {
   "cell_type": "code",
   "execution_count": 15,
   "id": "ffabd287",
   "metadata": {},
   "outputs": [],
   "source": [
    "from gensim.models import Word2Vec\n",
    "\n",
    "#pip install gensim"
   ]
  },
  {
   "cell_type": "code",
   "execution_count": 16,
   "id": "9d097faf",
   "metadata": {},
   "outputs": [
    {
     "data": {
      "text/plain": [
       "['The Marvel Cinematic Universe ( MCU ) American medium franchise shared universe centered series superhero film produced Marvel Studios .',\n",
       " 'The film based character appear American comic book published Marvel Comics .',\n",
       " 'The franchise also includes television series , short film , digital series , literature .',\n",
       " 'The shared universe , much like original Marvel Universe comic book , established crossing common plot element , setting , cast , character .',\n",
       " \"Marvel Studios release film group called `` Phases '' , first three phase collectively known `` The Infinity Saga '' following three phase `` The Multiverse Saga '' .\",\n",
       " 'The first MCU film , Iron Man ( 2008 ) , began Phase One , culminated 2012 crossover film The Avengers .',\n",
       " 'Phase Two began Iron Man 3 ( 2013 ) concluded Ant-Man ( 2015 ) .',\n",
       " 'Phase Three began Captain America : Civil War ( 2016 ) concluded Spider-Man : Far From Home ( 2019 ) .',\n",
       " 'Phase Four began Black Widow ( 2021 ) concluded Black Panther : Wakanda Forever ( 2022 ) .',\n",
       " 'Ant-Man Wasp : Quantumania ( 2023 ) began Phase Five , end Thunderbolts ( 2025 ) , Phase Six begin The Fantastic Four ( 2025 ) .',\n",
       " \"Phase Six `` The Multiverse Saga '' conclude Avengers 5 ( 2026 ) Avengers : Secret Wars ( 2027 ) .\",\n",
       " 'Marvel Television expanded universe network television Agents S.H.I.E.L.D .',\n",
       " 'ABC 2013 expanding streaming television Netflix Hulu cable television Freeform .',\n",
       " 'They also produced digital series Agents S.H.I.E.L.D .',\n",
       " ': Slingshot .',\n",
       " 'Marvel Studios began producing television series streaming Disney+ , starting WandaVision 2021 beginning Phase Four .',\n",
       " 'They also expanded television special Phase Four , known Marvel Studios Special Presentations , first Werewolf Night ( 2022 ) .',\n",
       " 'The MCU also includes tie-in comic published Marvel Comics , series direct-to-video short film called Marvel One-Shots , viral marketing campaign film featuring faux news program WHIH Newsfront The Daily Bugle .',\n",
       " 'The franchise commercially successful , becoming one highest-grossing medium franchise time , generally received positive review .',\n",
       " 'It inspired film television studio attempt similar shared universe also inspired several themed attraction , art exhibit , television special , literary material , multiple tie-in video game , commercial .']"
      ]
     },
     "execution_count": 16,
     "metadata": {},
     "output_type": "execute_result"
    }
   ],
   "source": [
    "lemma_sentences"
   ]
  },
  {
   "cell_type": "code",
   "execution_count": 29,
   "id": "0180a8e4",
   "metadata": {},
   "outputs": [],
   "source": [
    "model = Word2Vec(lemma_sentences, min_count=1)"
   ]
  },
  {
   "cell_type": "code",
   "execution_count": 30,
   "id": "33792dd4",
   "metadata": {},
   "outputs": [
    {
     "data": {
      "text/plain": [
       "<gensim.models.word2vec.Word2Vec at 0x15bf9c245b0>"
      ]
     },
     "execution_count": 30,
     "metadata": {},
     "output_type": "execute_result"
    }
   ],
   "source": [
    "model"
   ]
  },
  {
   "cell_type": "code",
   "execution_count": 31,
   "id": "9cc9fb52",
   "metadata": {},
   "outputs": [
    {
     "ename": "AttributeError",
     "evalue": "The vocab attribute was removed from KeyedVector in Gensim 4.0.0.\nUse KeyedVector's .key_to_index dict, .index_to_key list, and methods .get_vecattr(key, attr) and .set_vecattr(key, attr, new_val) instead.\nSee https://github.com/RaRe-Technologies/gensim/wiki/Migrating-from-Gensim-3.x-to-4",
     "output_type": "error",
     "traceback": [
      "\u001b[1;31m---------------------------------------------------------------------------\u001b[0m",
      "\u001b[1;31mAttributeError\u001b[0m                            Traceback (most recent call last)",
      "Cell \u001b[1;32mIn[31], line 1\u001b[0m\n\u001b[1;32m----> 1\u001b[0m words  \u001b[38;5;241m=\u001b[39m \u001b[43mmodel\u001b[49m\u001b[38;5;241;43m.\u001b[39;49m\u001b[43mwv\u001b[49m\u001b[38;5;241;43m.\u001b[39;49m\u001b[43mvocab\u001b[49m\n",
      "File \u001b[1;32m~\\anaconda3\\lib\\site-packages\\gensim\\models\\keyedvectors.py:734\u001b[0m, in \u001b[0;36mKeyedVectors.vocab\u001b[1;34m(self)\u001b[0m\n\u001b[0;32m    732\u001b[0m \u001b[38;5;129m@property\u001b[39m\n\u001b[0;32m    733\u001b[0m \u001b[38;5;28;01mdef\u001b[39;00m \u001b[38;5;21mvocab\u001b[39m(\u001b[38;5;28mself\u001b[39m):\n\u001b[1;32m--> 734\u001b[0m     \u001b[38;5;28;01mraise\u001b[39;00m \u001b[38;5;167;01mAttributeError\u001b[39;00m(\n\u001b[0;32m    735\u001b[0m         \u001b[38;5;124m\"\u001b[39m\u001b[38;5;124mThe vocab attribute was removed from KeyedVector in Gensim 4.0.0.\u001b[39m\u001b[38;5;130;01m\\n\u001b[39;00m\u001b[38;5;124m\"\u001b[39m\n\u001b[0;32m    736\u001b[0m         \u001b[38;5;124m\"\u001b[39m\u001b[38;5;124mUse KeyedVector\u001b[39m\u001b[38;5;124m'\u001b[39m\u001b[38;5;124ms .key_to_index dict, .index_to_key list, and methods \u001b[39m\u001b[38;5;124m\"\u001b[39m\n\u001b[0;32m    737\u001b[0m         \u001b[38;5;124m\"\u001b[39m\u001b[38;5;124m.get_vecattr(key, attr) and .set_vecattr(key, attr, new_val) instead.\u001b[39m\u001b[38;5;130;01m\\n\u001b[39;00m\u001b[38;5;124m\"\u001b[39m\n\u001b[0;32m    738\u001b[0m         \u001b[38;5;124m\"\u001b[39m\u001b[38;5;124mSee https://github.com/RaRe-Technologies/gensim/wiki/Migrating-from-Gensim-3.x-to-4\u001b[39m\u001b[38;5;124m\"\u001b[39m\n\u001b[0;32m    739\u001b[0m     )\n",
      "\u001b[1;31mAttributeError\u001b[0m: The vocab attribute was removed from KeyedVector in Gensim 4.0.0.\nUse KeyedVector's .key_to_index dict, .index_to_key list, and methods .get_vecattr(key, attr) and .set_vecattr(key, attr, new_val) instead.\nSee https://github.com/RaRe-Technologies/gensim/wiki/Migrating-from-Gensim-3.x-to-4"
     ]
    }
   ],
   "source": [
    "words  = model.wv.vocab"
   ]
  },
  {
   "cell_type": "code",
   "execution_count": 32,
   "id": "97c58ed5",
   "metadata": {},
   "outputs": [],
   "source": [
    "import random"
   ]
  },
  {
   "cell_type": "code",
   "execution_count": 33,
   "id": "63550c4a",
   "metadata": {},
   "outputs": [],
   "source": [
    "random_word = random.choice(model.wv.index_to_key) "
   ]
  },
  {
   "cell_type": "code",
   "execution_count": 34,
   "id": "20d70c33",
   "metadata": {},
   "outputs": [
    {
     "data": {
      "text/plain": [
       "'('"
      ]
     },
     "execution_count": 34,
     "metadata": {},
     "output_type": "execute_result"
    }
   ],
   "source": [
    "random_word"
   ]
  },
  {
   "cell_type": "code",
   "execution_count": 35,
   "id": "4eb59093",
   "metadata": {},
   "outputs": [
    {
     "ename": "KeyError",
     "evalue": "'marvel'",
     "output_type": "error",
     "traceback": [
      "\u001b[1;31m---------------------------------------------------------------------------\u001b[0m",
      "\u001b[1;31mKeyError\u001b[0m                                  Traceback (most recent call last)",
      "Cell \u001b[1;32mIn[35], line 1\u001b[0m\n\u001b[1;32m----> 1\u001b[0m rock_idx \u001b[38;5;241m=\u001b[39m \u001b[43mmodel\u001b[49m\u001b[38;5;241;43m.\u001b[39;49m\u001b[43mwv\u001b[49m\u001b[38;5;241;43m.\u001b[39;49m\u001b[43mkey_to_index\u001b[49m\u001b[43m[\u001b[49m\u001b[38;5;124;43m\"\u001b[39;49m\u001b[38;5;124;43mmarvel\u001b[39;49m\u001b[38;5;124;43m\"\u001b[39;49m\u001b[43m]\u001b[49m\n",
      "\u001b[1;31mKeyError\u001b[0m: 'marvel'"
     ]
    }
   ],
   "source": [
    "rock_idx = model.wv.key_to_index[\"marvel\"]"
   ]
  },
  {
   "cell_type": "code",
   "execution_count": null,
   "id": "6d630504",
   "metadata": {},
   "outputs": [],
   "source": []
  }
 ],
 "metadata": {
  "kernelspec": {
   "display_name": "Python 3 (ipykernel)",
   "language": "python",
   "name": "python3"
  },
  "language_info": {
   "codemirror_mode": {
    "name": "ipython",
    "version": 3
   },
   "file_extension": ".py",
   "mimetype": "text/x-python",
   "name": "python",
   "nbconvert_exporter": "python",
   "pygments_lexer": "ipython3",
   "version": "3.11.7"
  }
 },
 "nbformat": 4,
 "nbformat_minor": 5
}
